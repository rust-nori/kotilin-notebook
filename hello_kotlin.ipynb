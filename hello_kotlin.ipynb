{
 "cells": [
  {
   "cell_type": "code",
   "execution_count": 4,
   "id": "50003613-a28a-41cd-9e91-a43310163cb0",
   "metadata": {},
   "outputs": [],
   "source": [
    "val hello = \"Hello\"\n",
    "\n",
    "fun main() {\n",
    "    println(\" $hello \")\n",
    "    println(\" kotilin version : ${ KotlinVersion.CURRENT } \")\n",
    "}"
   ]
  },
  {
   "cell_type": "code",
   "execution_count": 5,
   "id": "be0c72bf-843c-4b5d-a04a-f44d23cce967",
   "metadata": {},
   "outputs": [
    {
     "name": "stdout",
     "output_type": "stream",
     "text": [
      " Hello \n",
      " kotilin version : 1.8.0 \n"
     ]
    }
   ],
   "source": [
    "main()"
   ]
  },
  {
   "cell_type": "code",
   "execution_count": null,
   "id": "72cf9b34-43fd-4efa-85db-8eb8acd84275",
   "metadata": {},
   "outputs": [],
   "source": []
  }
 ],
 "metadata": {
  "kernelspec": {
   "display_name": "Kotlin",
   "language": "kotlin",
   "name": "kotlin"
  },
  "language_info": {
   "codemirror_mode": "text/x-kotlin",
   "file_extension": ".kt",
   "mimetype": "text/x-kotlin",
   "name": "kotlin",
   "nbconvert_exporter": "",
   "pygments_lexer": "kotlin",
   "version": "1.8.0-RC"
  }
 },
 "nbformat": 4,
 "nbformat_minor": 5
}
